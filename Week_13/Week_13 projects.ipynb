{
 "cells": [
  {
   "cell_type": "code",
   "execution_count": 24,
   "id": "881a2022",
   "metadata": {
    "scrolled": true
   },
   "outputs": [
    {
     "name": "stdout",
     "output_type": "stream",
     "text": [
      "Welcome PAU'S Student Management Information System!\n",
      "How many student details are to be inputted: 1\n",
      "Input your name: tomi\n",
      "Input your matric number: 12345\n",
      "input your department: comp sci\n",
      "Input your level: 100\n",
      "Your data has been saved!\n",
      "  Student Name Matric.Number Department Level\n",
      "0         tomi         12345   comp sci   100\n"
     ]
    }
   ],
   "source": [
    "import pandas as pd\n",
    "\n",
    "class SMIS:\n",
    "    \n",
    "    def __init__(self):\n",
    "        self.names = []\n",
    "        self.matrics = []\n",
    "        self.departments = []\n",
    "        self.levels = []\n",
    "    \n",
    "    def file(self):\n",
    "        \n",
    "        save = {}\n",
    "        save['Student Name'] = self.names\n",
    "        save['Matric.Number'] = self.matrics\n",
    "        save['Department'] = self.departments\n",
    "        save['Level'] = self.levels\n",
    "        \n",
    "        df = pd.DataFrame(save)\n",
    "        df.to_csv(\"PAU SMIS.csv\")\n",
    "        print(\"Your data has been saved!\")\n",
    "        print(df)\n",
    "        \n",
    "        \n",
    "    def data(self):\n",
    "        name = input(\"Input your name: \")\n",
    "        self.names.append(name)\n",
    "        matric = input(\"Input your matric number: \")\n",
    "        self.matrics.append(matric)\n",
    "        department = input(\"input your department: \")\n",
    "        self.departments.append(department)\n",
    "        level = input(\"Input your level: \")\n",
    "        self.levels.append(level)\n",
    "        \n",
    "        \n",
    "print(\"Welcome PAU'S Student Management Information System!\")\n",
    "numb = int(input(\"How many student details are to be inputted: \"))\n",
    "\n",
    "obj = SMIS()\n",
    "for x in range(numb):\n",
    "    obj.data()\n",
    "    obj.file()\n"
   ]
  },
  {
   "cell_type": "code",
   "execution_count": 23,
   "id": "1b33b0af",
   "metadata": {},
   "outputs": [
    {
     "name": "stdout",
     "output_type": "stream",
     "text": [
      "Welcome to the program\n",
      "    Company  date  Company's shares  Company's liability Percentage leverages\n",
      "0     Enron  1987           1000000               200000                80.0%\n",
      "1  Anderson  1936           1500000               500000               66.67%\n",
      "2  GK Jones  2001           3000000              1500000                50.0%\n",
      "3      Mica  1996            250000                50000                80.0%\n",
      "4      Dune  2008            800000               300000                62.5%\n"
     ]
    }
   ],
   "source": [
    "import pandas as pd\n",
    "\n",
    "class company:\n",
    "    \n",
    "    def __init__(self,name,date,shares,liability):\n",
    "        self.name = name\n",
    "        self.date = date\n",
    "        self.shares = shares\n",
    "        self.liability = liability\n",
    "    \n",
    "    \n",
    "    def file(self):\n",
    "        save = {}\n",
    "        save['Company'] = self.name\n",
    "        save['date'] = self.date\n",
    "        save[\"Company's shares\"] = self.shares\n",
    "        save[\"Company's liability\"] = self.liability\n",
    "        \n",
    "        percent = []\n",
    "        \n",
    "        for i in range(len(self.name)):\n",
    "            percent.append(str(round((((self.shares[i] - self.liability[i])/self.shares[i])*100),2)) +'%')\n",
    "        \n",
    "        save[\"Percentage leverages\"] = percent\n",
    "        \n",
    "        df = pd.DataFrame(save)\n",
    "        df.to_csv(\"Company Data.csv\")\n",
    "        print(df)\n",
    "    \n",
    "    \n",
    "print(\"Welcome to the program\")\n",
    "compname = ['Enron','Anderson','GK Jones','Mica','Dune']\n",
    "date = ['1987','1936','2001','1996','2008']\n",
    "compshares = [1000000,1500000,3000000,250000,800000]\n",
    "complia = [200000,500000,1500000,50000,300000]\n",
    "\n",
    "obj = company(compname,date,compshares,complia)\n",
    "obj.file()"
   ]
  },
  {
   "cell_type": "code",
   "execution_count": null,
   "id": "6b5ff43a",
   "metadata": {},
   "outputs": [],
   "source": [
    " "
   ]
  }
 ],
 "metadata": {
  "kernelspec": {
   "display_name": "Python 3 (ipykernel)",
   "language": "python",
   "name": "python3"
  },
  "language_info": {
   "codemirror_mode": {
    "name": "ipython",
    "version": 3
   },
   "file_extension": ".py",
   "mimetype": "text/x-python",
   "name": "python",
   "nbconvert_exporter": "python",
   "pygments_lexer": "ipython3",
   "version": "3.10.9"
  }
 },
 "nbformat": 4,
 "nbformat_minor": 5
}
