{
 "cells": [
  {
   "cell_type": "code",
   "execution_count": 1,
   "id": "9dd767c2",
   "metadata": {},
   "outputs": [
    {
     "name": "stdout",
     "output_type": "stream",
     "text": [
      "The simple interest is:\n",
      "1200.0\n"
     ]
    }
   ],
   "source": [
    "# Code for simple interest\n",
    "PS = 1000\n",
    "RS = 10\n",
    "TS = 2\n",
    "Simple = PS * (1 + (RS/100) * TS)\n",
    "print(\"The simple interest is:\")\n",
    "print(Simple)"
   ]
  },
  {
   "cell_type": "code",
   "execution_count": 2,
   "id": "16262149",
   "metadata": {},
   "outputs": [
    {
     "name": "stdout",
     "output_type": "stream",
     "text": [
      "The compound interest is:\n",
      "1210.0000000000002\n"
     ]
    }
   ],
   "source": [
    "# Code for compound interest\n",
    "PC = 1000\n",
    "RC = 10\n",
    "NC = 1\n",
    "TC = 2\n",
    "Compound = PC * ((1 + ((RC/100)/NC)) ** (NC * TC))\n",
    "print(\"The compound interest is:\")\n",
    "print(Compound)\n"
   ]
  },
  {
   "cell_type": "code",
   "execution_count": null,
   "id": "e75e57bf",
   "metadata": {},
   "outputs": [
    {
     "name": "stdout",
     "output_type": "stream",
     "text": [
      "The annuity plan is:\n",
      "2100.000000000002\n"
     ]
    }
   ],
   "source": [
    "# Code for annuity plan\n",
    "PA = 1000\n",
    "RA = 10\n",
    "NA = 1\n",
    "TA = 2\n",
    "Annuity = PA * ((1 + ((RA/100)/NA)) ** (NA * TA) - 1) / (((RA/100)/NA))\n",
    "print(\"The annuity plan is:\")\n",
    "print(Annuity)"
   ]
  },
  {
   "cell_type": "code",
   "execution_count": null,
   "id": "cba90d34",
   "metadata": {},
   "outputs": [],
   "source": []
  }
 ],
 "metadata": {
  "kernelspec": {
   "display_name": "Python 3 (ipykernel)",
   "language": "python",
   "name": "python3"
  },
  "language_info": {
   "codemirror_mode": {
    "name": "ipython",
    "version": 3
   },
   "file_extension": ".py",
   "mimetype": "text/x-python",
   "name": "python",
   "nbconvert_exporter": "python",
   "pygments_lexer": "ipython3",
   "version": "3.10.9"
  }
 },
 "nbformat": 4,
 "nbformat_minor": 5
}
