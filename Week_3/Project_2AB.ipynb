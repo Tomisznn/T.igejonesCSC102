{
 "cells": [
  {
   "cell_type": "code",
   "execution_count": 10,
   "id": "912dc725",
   "metadata": {},
   "outputs": [
    {
     "name": "stdout",
     "output_type": "stream",
     "text": [
      "The cubic equation = Ax^3 + Bx^2 + Cx + D = 0\n",
      "Enter coefficient A: 2\n",
      "Enter coefficient B: 2\n",
      "Enter coefficient C: 2\n",
      "Enter coefficient D: 22\n",
      "The first root =  (-0.3333333333333333+0.47140452079103173j)\n",
      "The second root =  (-0.22222222222222224-0.9736314211914033j)\n",
      "The third root =  (-0.22222222222222224+0.6593617406640488j)\n"
     ]
    }
   ],
   "source": [
    "import cmath  \n",
    "\n",
    "# Project 2A\n",
    "\n",
    "print(\"The cubic equation = Ax^3 + Bx^2 + Cx + D = 0\")\n",
    "a = float(input(\"Enter coefficient A: \"))\n",
    "b = float(input(\"Enter coefficient B: \"))\n",
    "c = float(input(\"Enter coefficient C: \"))\n",
    "d = float(input(\"Enter coefficient D: \"))\n",
    "\n",
    "# Calculate the discriminant\n",
    "disc = (b ** 2) - (3 * a * c)\n",
    "\n",
    "# Using Cardano's formula\n",
    "root1 = (-b + cmath.sqrt(disc)) / (3 * a)\n",
    "\n",
    "root2 = (-b - root1 * a - cmath.sqrt(3) * cmath.sqrt(disc)) / (3 * a)\n",
    "root3 = (-b - root1 * a + cmath.sqrt(3) * cmath.sqrt(disc)) / (3 * a)\n",
    "\n",
    "print(\"The first root = \", root1)\n",
    "print(\"The second root = \", root2)\n",
    "print(\"The third root = \", root3)\n",
    "\n"
   ]
  },
  {
   "cell_type": "code",
   "execution_count": 11,
   "id": "74f35760",
   "metadata": {},
   "outputs": [
    {
     "name": "stdout",
     "output_type": "stream",
     "text": [
      "Enter a: 2\n",
      "Enter b: 2\n",
      "Enter c: 2\n",
      "The solution are (-0.5-0.8660254037844386j) and (-0.5+0.8660254037844386j)\n"
     ]
    }
   ],
   "source": [
    "import cmath\n",
    "\n",
    "# Project 2B\n",
    "\n",
    "a = float(input('Enter a: '))  \n",
    "b = float(input('Enter b: '))  \n",
    "c = float(input('Enter c: '))  \n",
    "    \n",
    "disc = (b**2) - (4*a*c)  \n",
    "    \n",
    "ans1 = (-b-cmath.sqrt(disc))/(2*a)  \n",
    "ans2 = (-b+cmath.sqrt(disc))/(2*a)  \n",
    "print(f\"The solution are {ans1} and {ans2}\")   "
   ]
  },
  {
   "cell_type": "code",
   "execution_count": null,
   "id": "143a3c43",
   "metadata": {},
   "outputs": [],
   "source": []
  }
 ],
 "metadata": {
  "kernelspec": {
   "display_name": "Python 3 (ipykernel)",
   "language": "python",
   "name": "python3"
  },
  "language_info": {
   "codemirror_mode": {
    "name": "ipython",
    "version": 3
   },
   "file_extension": ".py",
   "mimetype": "text/x-python",
   "name": "python",
   "nbconvert_exporter": "python",
   "pygments_lexer": "ipython3",
   "version": "3.10.9"
  }
 },
 "nbformat": 4,
 "nbformat_minor": 5
}
