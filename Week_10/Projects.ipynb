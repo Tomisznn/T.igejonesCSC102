{
 "cells": [
  {
   "cell_type": "code",
   "execution_count": 29,
   "id": "eb3690ca",
   "metadata": {},
   "outputs": [
    {
     "name": "stdout",
     "output_type": "stream",
     "text": [
      "The cost of one orange is N200\n",
      "How many Oranges do you want to purchase?: 56\n",
      "Not enough stock available please reduce amount inputed\n",
      "If amount required is more than stock please retype previous value to exit program\n",
      "Input number less than 3023\n",
      "Your total cost is  4600\n",
      "Thank you for your patronage! <3\n"
     ]
    }
   ],
   "source": [
    "# Project 1\n",
    "class orange():\n",
    "    \n",
    "    def numb(self):\n",
    "        number = int(input(\"How many Oranges do you want to purchase?: \"))\n",
    "        cost = number * 200\n",
    "        \n",
    "        stock = 30\n",
    "        if number <= stock:\n",
    "            print(\"Your total cost is \", cost)\n",
    "            print(\"Thank you for your patronage! <3\")\n",
    "            \n",
    "        if number > 30:\n",
    "                print(\"Not enough stock available please reduce amount inputed\")\n",
    "                print(\"If amount required is more than stock please retype previous value to exit program\")\n",
    "                new = int(input(\"Input number less than 30 \"))\n",
    "                cost2 = new * 200\n",
    "                if new <= stock:\n",
    "                                print(\"Your total cost is \", cost2)\n",
    "                                print(\"Thank you for your patronage! <3\")\n",
    "                \n",
    "                                \n",
    "                \n",
    "        \n",
    "print(\"The cost of one orange is N200\")\n",
    "obj = orange()\n",
    "obj.numb()\n",
    "        "
   ]
  },
  {
   "cell_type": "code",
   "execution_count": 30,
   "id": "ba26c13b",
   "metadata": {},
   "outputs": [
    {
     "name": "stdout",
     "output_type": "stream",
     "text": [
      "1: Area of Trapezium\n",
      "2: Area of Rhombus\n",
      "3: Area of Parallelogram\n",
      "4: Area of Cube\n",
      "5: Volume of Cylinder\n",
      "Input the number of the desired formula:2\n",
      "Input the first diagonal:2\n",
      "Input the second diagonal:2\n",
      "The area of the rhombus is  2.0\n"
     ]
    }
   ],
   "source": [
    "# Project 2\n",
    "class form():\n",
    "    \n",
    "    def trap(self):\n",
    "        h = int(input(\"Input the height of trapezium: \"))\n",
    "        b1 = int(input(\"Input the first base:\"))\n",
    "        b2 = int(input(\"Input the second base:\"))\n",
    "        trapezium = (h/2) * (b1 + b2)\n",
    "        print(\"The area of the trapezium is \", trapezium)\n",
    "        \n",
    "    def rhom(self):\n",
    "        d1 = int(input(\"Input the first diagonal:\"))\n",
    "        d2 = int(input(\"Input the second diagonal:\"))\n",
    "        rhombus = (d1 * d2)/2\n",
    "        print(\"The area of the rhombus is \",rhombus)\n",
    "        \n",
    "    def para(self):\n",
    "        b = int(input(\"Input the base of the parallelogram:\"))\n",
    "        a = int(input(\"Input the altitude:\"))\n",
    "        parallelogram = b * a\n",
    "        print(\"The area of the parallologram is \",parallelogram)\n",
    "        \n",
    "    def cube(self):\n",
    "        l = int(input(\"Input the length of the cube:\"))\n",
    "        cube = 6 * (l ** 2)\n",
    "        print(\"The area of the cube is \", cube)\n",
    "        \n",
    "    def cylin(self):\n",
    "        r = float(input(\"Input the radius of the cylinder:\"))\n",
    "        hc = float(input(\"Input the height of the cube: \"))\n",
    "        cylinder = 3.14 * (r ** 2) * hc\n",
    "        print(\"The volume of the cylinder is \", cube)\n",
    "        \n",
    "print(\"1: Area of Trapezium\")\n",
    "print(\"2: Area of Rhombus\")\n",
    "print(\"3: Area of Parallelogram\")\n",
    "print(\"4: Area of Cube\")\n",
    "print(\"5: Volume of Cylinder\")\n",
    "\n",
    "choice = int(input(\"Input the number of the desired formula:\"))\n",
    "\n",
    "obj = form()\n",
    "\n",
    "if choice == 1:\n",
    "    obj.trap()\n",
    "\n",
    "if choice == 2:\n",
    "    obj.rhom()\n",
    "    \n",
    "if choice == 3:\n",
    "    obj.para()\n",
    "    \n",
    "if choice == 4:\n",
    "    obj.cube()\n",
    "    \n",
    "if choice == 5:\n",
    "    obj.cylin\n",
    "    "
   ]
  },
  {
   "cell_type": "code",
   "execution_count": 38,
   "id": "4aebef89",
   "metadata": {},
   "outputs": [],
   "source": [
    "# Project 3\n",
    "import pandas as pd\n",
    "\n",
    "class breweries():\n",
    "    \n",
    "    def data(self):\n",
    "        drinks = {'Lager': ['33 Export','Desperados','Goldberg','Gulder','Heineken','Star'],\n",
    "                 'Stout': ['Legend','Turbo King','Williams','','',''],\n",
    "                 'Non-Alcoholic': ['Maltina','Amstel Malta','Malta Gold','Fayrouz','','']}\n",
    "        \n",
    "        df = pd.DataFrame(drinks)\n",
    "        df.to_csv(\"Breweries.csv\")\n",
    "        \n",
    "obj = breweries()\n",
    "obj.data()"
   ]
  },
  {
   "cell_type": "code",
   "execution_count": null,
   "id": "70e5cbea",
   "metadata": {},
   "outputs": [],
   "source": []
  }
 ],
 "metadata": {
  "kernelspec": {
   "display_name": "Python 3 (ipykernel)",
   "language": "python",
   "name": "python3"
  },
  "language_info": {
   "codemirror_mode": {
    "name": "ipython",
    "version": 3
   },
   "file_extension": ".py",
   "mimetype": "text/x-python",
   "name": "python",
   "nbconvert_exporter": "python",
   "pygments_lexer": "ipython3",
   "version": "3.10.9"
  }
 },
 "nbformat": 4,
 "nbformat_minor": 5
}
